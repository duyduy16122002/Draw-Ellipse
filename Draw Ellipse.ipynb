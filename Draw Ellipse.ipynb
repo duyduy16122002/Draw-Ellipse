{
 "cells": [
  {
   "cell_type": "code",
   "execution_count": 5,
   "id": "d144d43c",
   "metadata": {},
   "outputs": [],
   "source": [
    "import turtle \n",
    "def draw(rad):\n",
    "    for i in range(2):\n",
    "        turtle.circle(rad,90)\n",
    "        turtle.circle(rad//2,90)\n",
    "        \n",
    "col=['violet','blue','green','yellow',\n",
    "     'orange','red']\n",
    "val=10\n",
    "ind=0\n",
    "turtle.speed(20)\n",
    "for i in range(36):\n",
    "    turtle.seth(-val)\n",
    "    turtle.color(col[ind])\n",
    "    if ind==5:\n",
    "        ind=0\n",
    "    else:\n",
    "        ind+=1\n",
    "    draw(80)\n",
    "    val+=10"
   ]
  },
  {
   "cell_type": "code",
   "execution_count": 6,
   "id": "b315b8e7",
   "metadata": {},
   "outputs": [],
   "source": [
    "turtle.done()"
   ]
  },
  {
   "cell_type": "code",
   "execution_count": null,
   "id": "7fb5606e",
   "metadata": {},
   "outputs": [],
   "source": []
  }
 ],
 "metadata": {
  "kernelspec": {
   "display_name": "Python 3 (ipykernel)",
   "language": "python",
   "name": "python3"
  },
  "language_info": {
   "codemirror_mode": {
    "name": "ipython",
    "version": 3
   },
   "file_extension": ".py",
   "mimetype": "text/x-python",
   "name": "python",
   "nbconvert_exporter": "python",
   "pygments_lexer": "ipython3",
   "version": "3.9.12"
  }
 },
 "nbformat": 4,
 "nbformat_minor": 5
}
